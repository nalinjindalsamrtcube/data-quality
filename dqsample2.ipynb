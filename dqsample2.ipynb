{
 "cells": [
  {
   "cell_type": "code",
   "execution_count": null,
   "id": "85281f33",
   "metadata": {},
   "outputs": [],
   "source": [
    "# file='OT_trader_input_format5.xlsx'"
   ]
  },
  {
   "cell_type": "code",
   "execution_count": null,
   "id": "7ff1b98b",
   "metadata": {},
   "outputs": [],
   "source": [
    "# time_buc =pd.read_excel(file,sheet_name='Time Buckets')\n",
    "# tc_cur =pd.read_excel(file,sheet_name='TC Curve')\n",
    "\n",
    "# base_disc =pd.read_excel(file,sheet_name='Base_discounts')\n",
    "# top_disc =pd.read_excel(file,sheet_name='Top-off_discounts')\n",
    "# base_spec =pd.read_excel(file,sheet_name='Base_cargo_specs')\n",
    "# top_spec =pd.read_excel(file,sheet_name='Top-off_cargo_specs')\n",
    "# parc_spec =pd.read_excel(file,sheet_name='Parcel_calc_specs')\n",
    "# fc_cur =pd.read_excel(file,sheet_name='fwprices')"
   ]
  },
  {
   "cell_type": "code",
   "execution_count": null,
   "id": "108f53c4",
   "metadata": {},
   "outputs": [],
   "source": [
    "# fc_cur"
   ]
  },
  {
   "cell_type": "code",
   "execution_count": null,
   "id": "74f9fa0c",
   "metadata": {
    "scrolled": true
   },
   "outputs": [],
   "source": [
    "# column_headers = list(fc_cur.columns.values)"
   ]
  },
  {
   "cell_type": "code",
   "execution_count": null,
   "id": "21bfab85",
   "metadata": {},
   "outputs": [],
   "source": [
    "# column_headers\n",
    "# column_headers.remove(column_headers[0])\n",
    "# column_headers"
   ]
  },
  {
   "cell_type": "code",
   "execution_count": null,
   "id": "5e4cb7c8",
   "metadata": {},
   "outputs": [],
   "source": [
    "# parc_spec"
   ]
  },
  {
   "cell_type": "code",
   "execution_count": null,
   "id": "3c780897",
   "metadata": {
    "scrolled": true
   },
   "outputs": [],
   "source": [
    "# top_spec"
   ]
  },
  {
   "cell_type": "code",
   "execution_count": null,
   "id": "60cab226",
   "metadata": {},
   "outputs": [],
   "source": [
    "# time_buc"
   ]
  },
  {
   "cell_type": "code",
   "execution_count": null,
   "id": "20c26ae2",
   "metadata": {},
   "outputs": [],
   "source": [
    "# base_spec"
   ]
  },
  {
   "cell_type": "code",
   "execution_count": null,
   "id": "512cae22",
   "metadata": {
    "scrolled": true
   },
   "outputs": [],
   "source": [
    "# base_spec.at[1,'Unnamed: 4']"
   ]
  },
  {
   "cell_type": "code",
   "execution_count": null,
   "id": "334525a6",
   "metadata": {},
   "outputs": [],
   "source": [
    "# len(base_disc.index)"
   ]
  },
  {
   "cell_type": "code",
   "execution_count": null,
   "id": "d15a4990",
   "metadata": {},
   "outputs": [],
   "source": [
    "# top_disc"
   ]
  },
  {
   "cell_type": "code",
   "execution_count": null,
   "id": "551310b0",
   "metadata": {},
   "outputs": [],
   "source": [
    "# fc_cur"
   ]
  },
  {
   "cell_type": "code",
   "execution_count": null,
   "id": "81a7d430",
   "metadata": {},
   "outputs": [],
   "source": []
  },
  {
   "cell_type": "code",
   "execution_count": null,
   "id": "f95beed5",
   "metadata": {},
   "outputs": [],
   "source": []
  },
  {
   "cell_type": "code",
   "execution_count": 1,
   "id": "b3be60a4",
   "metadata": {},
   "outputs": [],
   "source": [
    "import pandas as pd\n",
    "import numpy as np"
   ]
  },
  {
   "cell_type": "code",
   "execution_count": 2,
   "id": "186648a2",
   "metadata": {},
   "outputs": [],
   "source": [
    "def function11(file):\n",
    "    time_buc =pd.read_excel(file,sheet_name='Time Buckets')\n",
    "    return time_buc"
   ]
  },
  {
   "cell_type": "code",
   "execution_count": 3,
   "id": "e43a6959",
   "metadata": {},
   "outputs": [],
   "source": [
    "def function12(file):\n",
    "    tc_cur =pd.read_excel(file,sheet_name='TC Curve')\n",
    "    return tc_cur"
   ]
  },
  {
   "cell_type": "code",
   "execution_count": 4,
   "id": "7cf0b704",
   "metadata": {},
   "outputs": [],
   "source": [
    "def function13(file):\n",
    "    base_disc=pd.read_excel(file,sheet_name='Base_discounts')\n",
    "    return base_disc"
   ]
  },
  {
   "cell_type": "code",
   "execution_count": 5,
   "id": "703dd452",
   "metadata": {},
   "outputs": [],
   "source": [
    "def function14(file):\n",
    "    top_disc =pd.read_excel(file,sheet_name='Top-off_discounts')\n",
    "    return top_disc"
   ]
  },
  {
   "cell_type": "code",
   "execution_count": 6,
   "id": "ae683542",
   "metadata": {},
   "outputs": [],
   "source": [
    "def function15(file):\n",
    "    base_spec =pd.read_excel(file,sheet_name='Base_cargo_specs')\n",
    "    return base_spec"
   ]
  },
  {
   "cell_type": "code",
   "execution_count": 7,
   "id": "82b30434",
   "metadata": {},
   "outputs": [],
   "source": [
    "def function16(file):\n",
    "    top_spec =pd.read_excel(file,sheet_name='Top-off_cargo_specs')\n",
    "    return top_spec"
   ]
  },
  {
   "cell_type": "code",
   "execution_count": 8,
   "id": "c7efe9cb",
   "metadata": {},
   "outputs": [],
   "source": [
    "def function17(file):\n",
    "    parc_spec =pd.read_excel(file,sheet_name='Parcel_calc_specs')\n",
    "    return parc_spec"
   ]
  },
  {
   "cell_type": "code",
   "execution_count": 9,
   "id": "f1567930",
   "metadata": {},
   "outputs": [],
   "source": [
    "def function18(file):\n",
    "    fc_cur=pd.read_excel(file,sheet_name='fwprices')\n",
    "    return fc_cur"
   ]
  },
  {
   "cell_type": "code",
   "execution_count": 10,
   "id": "292b24f4",
   "metadata": {},
   "outputs": [],
   "source": [
    "def function1(df1):#time buckets\n",
    "    df1.drop_duplicates(subset=\"absolute_time_bucket_start\", keep='first', inplace=False)\n",
    "    "
   ]
  },
  {
   "cell_type": "code",
   "execution_count": 11,
   "id": "946ba1b0",
   "metadata": {},
   "outputs": [],
   "source": [
    "def function2(df2):#tc curve\n",
    "    df2.drop_duplicates(subset=\"Time\", keep='first', inplace=False)"
   ]
  },
  {
   "cell_type": "code",
   "execution_count": 12,
   "id": "9db1b9ff",
   "metadata": {},
   "outputs": [],
   "source": [
    "def function3(df3):#base discount\n",
    "    df3.drop_duplicates(subset=\"Time\", keep='first', inplace=False)\n",
    "    \n",
    "    for i in range(len(df3.index)):\n",
    "        if (base_discount_1[i] > 0):\n",
    "            print(\"Discount cannot be more than 0 for base cargo discount 1 for date:\" + Time[i])\n",
    "        if (base_discount_2[i] > 0):\n",
    "            print(\"Discount cannot be more than 0 for base cargo discount 2 for date: \" + Time[i])\n",
    "            \n",
    "            "
   ]
  },
  {
   "cell_type": "code",
   "execution_count": 13,
   "id": "91288ec1",
   "metadata": {},
   "outputs": [],
   "source": [
    "def function4(df4):#top off discount\n",
    "    df4.drop_duplicates(subset=\"Time\", keep='first', inplace=False)\n",
    "    \n",
    "    for i in range(len(df4.index)):\n",
    "        if (top_off_discount_1[i] > 0):\n",
    "            print(\"Discount cannot be more than 0 for top off cargo discount 1 for date:\" + Time[i])\n",
    "        if (top_off_discount_2[i] > 0):\n",
    "            print(\"Discount cannot be more than 0 for top off cargo discount 2 for date: \" + Time[i])\n",
    "            "
   ]
  },
  {
   "cell_type": "code",
   "execution_count": 14,
   "id": "60cda9b1",
   "metadata": {},
   "outputs": [],
   "source": [
    "def function5(df5): #base cargo specs\n",
    "    for i in range(len(df5.index)):\n",
    "        if(df5.at[i+1,'Unnamed: 4']) in column_headers:\n",
    "            pass\n",
    "        else:\n",
    "            print(\"Prices for country and fuel type:\" + df5.at[i+1,'Unnamed: 4']+ \" does not exist.\\n\"+ \"Please check the list and re-enter correct value.\")\n",
    "        \n",
    "        if(df5.at[i+1,'Unnamed: 5']) in column_headers:\n",
    "            pass\n",
    "        else:\n",
    "            print(\"Prices for country and fuel type:\" + df5.at[i+1,'Unnamed: 5']+ \" does not exist.\\n\"+ \"Please check the list and re-enter correct value.\")\n",
    "            \n",
    "        if(df5.at[i+1,'Unnamed: 6']) in column_headers:\n",
    "            pass\n",
    "        else:\n",
    "            print(\"Prices for country and fuel type:\" + df5.at[i+1,'Unnamed: 6']+ \" does not exist. \\n\"+ \"Please check the list and re-enter correct value.\")\n",
    "        if(df5.at[i+1,'Unnamed: 7']) in column_headers:\n",
    "            pass\n",
    "        else:\n",
    "            print(\"Prices for country and fuel type:\" + df5.at[i+1,'Unnamed: 7']+ \" does not exist. \\n\"+ \"Please check the list and re-enter correct value.\")\n",
    "\n",
    "            "
   ]
  },
  {
   "cell_type": "code",
   "execution_count": 15,
   "id": "8c018da4",
   "metadata": {},
   "outputs": [],
   "source": [
    "def function6(df6):#top of cargo specs\n",
    "    for i in range(len(top_disc.index)):\n",
    "        if(df6.at[i+1,'Unnamed: 4']) in column_headers:\n",
    "            pass\n",
    "        else:\n",
    "            print(\"Prices for country and fuel type:\" + df6.at[i+1,'Unnamed: 4']+ \" does not exist.\\n\"+ \"Please check the list and re-enter correct value.\")\n",
    "        if(df6.at[i+1,'Unnamed: 5']) in column_headers:\n",
    "            pass\n",
    "        else:\n",
    "            print(\"Prices for country and fuel type:\" + df6.at[i+1,'Unnamed: 5']+ \" does not exist.\\n\"+ \"Please check the list and re-enter correct value.\")\n",
    "            \n",
    "        if(df6.at[i+1,'Unnamed: 6']) in column_headers:\n",
    "            pass\n",
    "        else:\n",
    "            print(\"Prices for country and fuel type:\" + df6.at[i+1,'Unnamed: 6']+ \" does not exist. \\n\"+ \"Please check the list and re-enter correct value.\")\n",
    "            \n",
    "        if(df6.at[i+1,'Unnamed: 7']) in column_headers:\n",
    "            pass\n",
    "        else:\n",
    "            print(\"Prices for country and fuel type:\" + df6.at[i+1,'Unnamed: 7']+ \" does not exist. \\n\"+ \"Please check the list and re-enter correct value.\")\n",
    "\n",
    "                "
   ]
  },
  {
   "cell_type": "code",
   "execution_count": 16,
   "id": "a89d23cf",
   "metadata": {},
   "outputs": [],
   "source": [
    "def function7(df7):#parcel calc specs\n",
    "    for i in range(len(top_disc.index)):\n",
    "        if(df7.at[i+1,'Unnamed: 4']) in column_headers:\n",
    "            pass\n",
    "        else:\n",
    "            print(\"Prices for country and fuel type:\" + df7.at[i+1,'Unnamed: 4']+ \" does not exist.\\n\"+ \"Please check the list and re-enter correct value.\")\n",
    "        if(df7.at[i+1,'Unnamed: 5']) in column_headers:\n",
    "            pass\n",
    "        else:\n",
    "            print(\"Prices for country and fuel type:\" + df7.at[i+1,'Unnamed: 5']+ \" does not exist.\\n\"+ \"Please check the list and re-enter correct value.\")\n",
    "            \n",
    "        if(df7.at[i+1,'Unnamed: 6']) in column_headers:\n",
    "            pass\n",
    "        else:\n",
    "            print(\"Prices for country and fuel type:\" + df7.at[i+1,'Unnamed: 6']+ \" does not exist. \\n\"+ \"Please check the list and re-enter correct value.\")\n",
    "        if(df7.at[i+1,'Unnamed: 7']) in column_headers:\n",
    "            pass\n",
    "        else:\n",
    "            print(\"Prices for country and fuel type:\" + df7.at[i+1,'Unnamed: 7']+ \" does not exist. \\n\"+ \"Please check the list and re-enter correct value.\")\n",
    "\n",
    "                "
   ]
  },
  {
   "cell_type": "code",
   "execution_count": 17,
   "id": "743f0a41",
   "metadata": {},
   "outputs": [],
   "source": [
    "def function8(df8):#fw prices\n",
    "    column_headers = list(df8.columns.values)\n",
    "    column_headers.remove(column_headers[0])\n",
    "    column_headers\n",
    "    return column_headers"
   ]
  },
  {
   "cell_type": "code",
   "execution_count": 18,
   "id": "48e44c2a",
   "metadata": {},
   "outputs": [],
   "source": [
    "def function10(file1):\n",
    "#     function9(file1)\n",
    "    fc_cur=function18(file1)\n",
    "    time_buc=function11(file1)\n",
    "    tc_cur=function12(file1)\n",
    "    base_disc=function13(file1)\n",
    "    top_disc=function14(file1)\n",
    "    base_spec=function15(file1)\n",
    "    top_spec=function16(file1)\n",
    "    parc_spec=function17(file1)\n",
    "    \n",
    "    function8(fc_cur) #calling this function first since a later df needs to access contents of this df\n",
    "    \n",
    "    function1(time_buc)\n",
    "    function2(tc_cur)\n",
    "    function3(base_disc)\n",
    "    function4(top_disc)\n",
    "    function5(base_spec)\n",
    "    function6(top_spec)\n",
    "    function7(parc_spec)\n",
    "    \n",
    "    "
   ]
  },
  {
   "cell_type": "code",
   "execution_count": null,
   "id": "a3c9e00b",
   "metadata": {},
   "outputs": [],
   "source": []
  },
  {
   "cell_type": "code",
   "execution_count": 19,
   "id": "fba7f96c",
   "metadata": {},
   "outputs": [
    {
     "ename": "NameError",
     "evalue": "name 'base_discount_1' is not defined",
     "output_type": "error",
     "traceback": [
      "\u001b[1;31m---------------------------------------------------------------------------\u001b[0m",
      "\u001b[1;31mNameError\u001b[0m                                 Traceback (most recent call last)",
      "Input \u001b[1;32mIn [19]\u001b[0m, in \u001b[0;36m<cell line: 1>\u001b[1;34m()\u001b[0m\n\u001b[0;32m      1\u001b[0m \u001b[38;5;28;01mif\u001b[39;00m \u001b[38;5;18m__name__\u001b[39m\u001b[38;5;241m==\u001b[39m\u001b[38;5;124m\"\u001b[39m\u001b[38;5;124m__main__\u001b[39m\u001b[38;5;124m\"\u001b[39m:\n\u001b[0;32m      3\u001b[0m     file\u001b[38;5;241m=\u001b[39m\u001b[38;5;124m'\u001b[39m\u001b[38;5;124mOT_trader_input_format5.xlsx\u001b[39m\u001b[38;5;124m'\u001b[39m\n\u001b[1;32m----> 4\u001b[0m     \u001b[43mfunction10\u001b[49m\u001b[43m(\u001b[49m\u001b[43mfile\u001b[49m\u001b[43m)\u001b[49m\n",
      "Input \u001b[1;32mIn [18]\u001b[0m, in \u001b[0;36mfunction10\u001b[1;34m(file1)\u001b[0m\n\u001b[0;32m     14\u001b[0m function1(time_buc)\n\u001b[0;32m     15\u001b[0m function2(tc_cur)\n\u001b[1;32m---> 16\u001b[0m \u001b[43mfunction3\u001b[49m\u001b[43m(\u001b[49m\u001b[43mbase_disc\u001b[49m\u001b[43m)\u001b[49m\n\u001b[0;32m     17\u001b[0m function4(top_disc)\n\u001b[0;32m     18\u001b[0m function5(base_spec)\n",
      "Input \u001b[1;32mIn [12]\u001b[0m, in \u001b[0;36mfunction3\u001b[1;34m(df3)\u001b[0m\n\u001b[0;32m      2\u001b[0m df3\u001b[38;5;241m.\u001b[39mdrop_duplicates(subset\u001b[38;5;241m=\u001b[39m\u001b[38;5;124m\"\u001b[39m\u001b[38;5;124mTime\u001b[39m\u001b[38;5;124m\"\u001b[39m, keep\u001b[38;5;241m=\u001b[39m\u001b[38;5;124m'\u001b[39m\u001b[38;5;124mfirst\u001b[39m\u001b[38;5;124m'\u001b[39m, inplace\u001b[38;5;241m=\u001b[39m\u001b[38;5;28;01mFalse\u001b[39;00m)\n\u001b[0;32m      4\u001b[0m \u001b[38;5;28;01mfor\u001b[39;00m i \u001b[38;5;129;01min\u001b[39;00m \u001b[38;5;28mrange\u001b[39m(\u001b[38;5;28mlen\u001b[39m(df3\u001b[38;5;241m.\u001b[39mindex)):\n\u001b[1;32m----> 5\u001b[0m     \u001b[38;5;28;01mif\u001b[39;00m (\u001b[43mbase_discount_1\u001b[49m[i] \u001b[38;5;241m>\u001b[39m \u001b[38;5;241m0\u001b[39m):\n\u001b[0;32m      6\u001b[0m         \u001b[38;5;28mprint\u001b[39m(\u001b[38;5;124m\"\u001b[39m\u001b[38;5;124mDiscount cannot be more than 0 for base cargo discount 1 for date:\u001b[39m\u001b[38;5;124m\"\u001b[39m \u001b[38;5;241m+\u001b[39m Time[i])\n\u001b[0;32m      7\u001b[0m     \u001b[38;5;28;01mif\u001b[39;00m (base_discount_2[i] \u001b[38;5;241m>\u001b[39m \u001b[38;5;241m0\u001b[39m):\n",
      "\u001b[1;31mNameError\u001b[0m: name 'base_discount_1' is not defined"
     ]
    }
   ],
   "source": [
    "if __name__==\"__main__\":\n",
    "    \n",
    "    file='OT_trader_input_format5.xlsx'\n",
    "    function10(file)\n",
    "    "
   ]
  },
  {
   "cell_type": "code",
   "execution_count": null,
   "id": "9275f24d",
   "metadata": {},
   "outputs": [],
   "source": []
  }
 ],
 "metadata": {
  "kernelspec": {
   "display_name": "Python 3 (ipykernel)",
   "language": "python",
   "name": "python3"
  },
  "language_info": {
   "codemirror_mode": {
    "name": "ipython",
    "version": 3
   },
   "file_extension": ".py",
   "mimetype": "text/x-python",
   "name": "python",
   "nbconvert_exporter": "python",
   "pygments_lexer": "ipython3",
   "version": "3.8.0"
  }
 },
 "nbformat": 4,
 "nbformat_minor": 5
}
