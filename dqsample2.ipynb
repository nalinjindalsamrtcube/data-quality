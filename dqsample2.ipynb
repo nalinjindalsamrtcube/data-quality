{
 "cells": [
  {
   "cell_type": "code",
   "execution_count": 1,
   "id": "b3be60a4",
   "metadata": {},
   "outputs": [],
   "source": [
    "import pandas as pd\n",
    "import numpy as np\n",
    "import openpyxl\n",
    "import datetime"
   ]
  },
  {
   "cell_type": "code",
   "execution_count": 2,
   "id": "313a7d01",
   "metadata": {},
   "outputs": [],
   "source": [
    "def function8(file):#fw prices\n",
    "    fc_cur=pd.read_excel(file,sheet_name='fwprices')\n",
    "    column_headers = list(fc_cur.columns.values)\n",
    "    column_headers.remove(column_headers[0])\n",
    "    column_headers\n",
    "    return column_headers  "
   ]
  },
  {
   "cell_type": "code",
   "execution_count": 5,
   "id": "5beceedb",
   "metadata": {},
   "outputs": [],
   "source": [
    "class data_check():\n",
    "    def function1(self,file):#time buckets\n",
    "        time_buc =pd.read_excel(file,sheet_name='Time Buckets')\n",
    "        if(time_buc['absolute_time_bucket_start'].is_unique):\n",
    "            pass\n",
    "        else:\n",
    "            print('In Sheet Time Buckets, a duplicate date value exists.\\n Please re-enter the correct date value and try again')\n",
    "        \n",
    "    \n",
    "    def function3(self,file):#base discount\n",
    "        base_disc=pd.read_excel(file,sheet_name='Base_discounts')\n",
    "    \n",
    "        for i in range(len(base_disc.index)):\n",
    "            if (base_disc['base_discount_1'][i] > 0):\n",
    "                print(\"\\n Discount cannot be more than 0 for base cargo discount 1 for date:\" + str(base_disc['Time'][i]))\n",
    "            if (base_disc['base_discount_2'][i] > 0):\n",
    "                print(\"\\n Discount cannot be more than 0 for base cargo discount 2 for date: \" + str(base_disc['Time'][i]))\n",
    "        \n",
    "    \n",
    "    def function4(self,file):#top off discount\n",
    "        top_disc =pd.read_excel(file,sheet_name='Top-off_discounts')\n",
    "    \n",
    "        for i in range(len(top_disc.index)):\n",
    "            if (top_disc['top_off_discount_1'][i] > 0):\n",
    "                print(\"\\n Discount cannot be more than 0 for top off cargo discount 1 for date:\" + str(top_disc['Time'][i]))\n",
    "            if (top_disc['top_off_discount_2'][i] > 0):\n",
    "                print(\"\\n Discount cannot be more than 0 for top off cargo discount 2 for date: \" + str(top_disc['Time'][i]))\n",
    "    \n",
    "    \n",
    "    \n",
    "    def function5(self,file,column_headers): #base cargo specs\n",
    "        base_spec =pd.read_excel(file,sheet_name='Base_cargo_specs')\n",
    "    \n",
    "        for i in range(1,len(base_spec.index)-1):\n",
    "            if(base_spec['Unnamed: 4'][i]) in column_headers:\n",
    "                pass\n",
    "            else:\n",
    "                print(\"Sheet:Base_cargo_specs \\nPrices for country and fuel type:\" + base_spec.at[i+1,'Unnamed: 4']+ \" does not exist.\\n\"+ \"Please check the list and re-enter correct value.\\n\")\n",
    "        \n",
    "            if(base_spec['Unnamed: 5'][i]) in column_headers:\n",
    "                pass\n",
    "            else:\n",
    "                print(\"Sheet:Base_cargo_specs \\nPrices for country and fuel type:\" + base_spec.at[i+1,'Unnamed: 5']+ \" does not exist.\\n\"+ \"Please check the list and re-enter correct value.\\n\")\n",
    "            \n",
    "            if(base_spec['Unnamed: 6'][i]) in column_headers:\n",
    "                pass\n",
    "            else:\n",
    "                print(\"Sheet:Base_cargo_specs \\nPrices for country and fuel type:\" + base_spec.at[i+1,'Unnamed: 6']+ \" does not exist. \\n\"+ \"Please check the list and re-enter correct value.\\n\")\n",
    "            if(base_spec['Unnamed: 7'][i]) in column_headers:\n",
    "                pass\n",
    "            else:\n",
    "                print(\"Sheet:Base_cargo_specs \\nPrices for country and fuel type:\" + base_spec.at[i+1,'Unnamed: 7']+ \" does not exist. \\n\"+ \"Please check the list and re-enter correct value.\\n\")\n",
    "\n",
    "    \n",
    "    def function6(self,file,column_headers):#top of cargo specs\n",
    "        top_spec =pd.read_excel(file,sheet_name='Top-off_cargo_specs')\n",
    "    \n",
    "        for i in range(1,len(top_spec.index)):\n",
    "            if(top_spec['Unnamed: 4'][i]) in column_headers:\n",
    "                pass\n",
    "            else:\n",
    "                print(\"Sheet:Top-off_cargo_specs \\nPrices for country and fuel type:\" + top_spec.at[i,'Unnamed: 4']+ \" does not exist.\\n\"+ \"Please check the list and re-enter correct value.\\n\")\n",
    "            if(top_spec['Unnamed: 5'][i]) in column_headers:\n",
    "                pass\n",
    "            else:\n",
    "                print(\"Sheet:Top-off_cargo_specs \\nPrices for country and fuel type:\" + top_spec.at[i,'Unnamed: 5']+ \" does not exist.\\n\"+ \"Please check the list and re-enter correct value.\\n\")\n",
    "            \n",
    "            if(top_spec['Unnamed: 6'][i]) in column_headers:\n",
    "                pass\n",
    "            else:\n",
    "                print(\"Sheet:Top-off_cargo_specs \\nPrices for country and fuel type:\" + top_spec.at[i,'Unnamed: 6']+ \" does not exist. \\n\"+ \"Please check the list and re-enter correct value.\\n\")\n",
    "            \n",
    "            if(top_spec['Unnamed: 7'][i]) in column_headers:\n",
    "                pass\n",
    "            else:\n",
    "                print(\"Sheet:Top-off_cargo_specs \\nPrices for country and fuel type:\" + top_spec.at[i,'Unnamed: 7']+ \" does not exist. \\n\"+ \"Please check the list and re-enter correct value.\\n\")\n",
    "\n",
    "    def function7(self,file,column_headers):#parcel calc specs\n",
    "    \n",
    "        parc_spec =pd.read_excel(file,sheet_name='Parcel_calc_specs')\n",
    "    \n",
    "        for i in range(1,len(parc_spec.index)):\n",
    "            if(parc_spec['Unnamed: 6'][i]) in column_headers:\n",
    "                pass\n",
    "            else:\n",
    "                print(\"Sheet:Parcel_calc_specs \\nPrices for country and fuel type for :\" + parc_spec['Unnamed: 6'][i]+ \" does not exist.\\n\"+ \"Please check the list and re-enter correct value.\\n\")\n",
    "            if(parc_spec['Unnamed: 7'][i]) in column_headers:\n",
    "                pass\n",
    "            else:\n",
    "                print(\"Sheet:Parcel_calc_specs \\n Prices for country and fuel type:\" + parc_spec['Unnamed: 7'][i] + \" does not exist.\\n\"+ \"Please check the list and re-enter correct value.\\n\")\n",
    "            \n",
    "            if(parc_spec['Unnamed: 8'][i]) in column_headers:\n",
    "                pass\n",
    "            else:\n",
    "                print(\"Sheet:Parcel_calc_specs \\n Prices for country and fuel type:\" + parc_spec['Unnamed: 8'][i] + \" does not exist. \\n\"+ \"Please check the list and re-enter correct value.\\n\")\n",
    "            if(parc_spec['Unnamed: 9'][i]) in column_headers:\n",
    "                pass\n",
    "            else:\n",
    "                print(\"Sheet:Parcel_calc_specs \\n Prices for country and fuel type:\" + parc_spec['Unnamed: 9'][i] + \" does not exist. \\n\"+ \"Please check the list and re-enter correct value.\\n\")\n",
    "\n",
    "                                            \n",
    "\n",
    "              \n",
    "        "
   ]
  },
  {
   "cell_type": "code",
   "execution_count": 6,
   "id": "fba7f96c",
   "metadata": {},
   "outputs": [
    {
     "name": "stdout",
     "output_type": "stream",
     "text": [
      "\n",
      " Discount cannot be more than 0 for base cargo discount 2 for date: 2023-02-01 00:00:00\n",
      "Sheet:Top-off_cargo_specs \n",
      "Prices for country and fuel type:India_IFO does not exist.\n",
      "Please check the list and re-enter correct value.\n",
      "\n"
     ]
    }
   ],
   "source": [
    "if __name__==\"__main__\":\n",
    "    \n",
    "    file='OT_trader_input_format5.xlsx'\n",
    "#     item1=column_header_extract()\n",
    "#     item1.function8(file)\n",
    "    column_headers = function8(file)\n",
    "    \n",
    "    item2=data_check()\n",
    "    item2.function3(file)\n",
    "    item2.function4(file)\n",
    "    item2.function5(file,column_headers)\n",
    "    item2.function6(file,column_headers)\n",
    "    item2.function7(file,column_headers)\n",
    "#     testingFunctionclass.function8(file)\n",
    "#     testingFunctionclass.function10(file)\n",
    "#     testingFunctionclass.function10(file)\n",
    "    "
   ]
  },
  {
   "cell_type": "code",
   "execution_count": 23,
   "id": "292b24f4",
   "metadata": {},
   "outputs": [],
   "source": [
    "# def function1(file):#time buckets\n",
    "#     time_buc =pd.read_excel(file,sheet_name='Time Buckets')\n",
    "#     if(time_buc['absolute_time_bucket_start'].is_unique):\n",
    "#         pass\n",
    "#     else:\n",
    "#         print('In Sheet Time Buckets, a duplicate date value exists.\\n Please re-enter the correct date value and try again')\n",
    "# #     write_excel(file,'Time Buckets',time_buc)\n",
    "# #     with pd.ExcelWriter(file) as writer:  \n",
    "# #         time_buc.to_excel(writer, sheet_name='Time Buckets')\n",
    "# #     time_b"
   ]
  },
  {
   "cell_type": "code",
   "execution_count": 24,
   "id": "946ba1b0",
   "metadata": {},
   "outputs": [],
   "source": [
    "# def function2(file):#tc curve\n",
    "#     tc_cur =pd.read_excel(file,sheet_name='TC Curve')\n",
    "#     if(tc_cur['time_bucket'].is_unique):\n",
    "#         pass\n",
    "#     else:\n",
    "#         print('In Sheet Time Buckets, a duplicate date value exists.')\n",
    "#     write_excel(file,'TC Curve',tc_cur)\n",
    "#     with pd.ExcelWriter(file) as writer:  \n",
    "#         tc_cur.to_excel(writer, sheet_name='TC Curve')"
   ]
  },
  {
   "cell_type": "code",
   "execution_count": 25,
   "id": "9db1b9ff",
   "metadata": {},
   "outputs": [],
   "source": [
    "# def function3(file):#base discount\n",
    "#     base_disc=pd.read_excel(file,sheet_name='Base_discounts')\n",
    "# #     base_disc.drop_duplicates(subset=\"Time\", keep='first', inplace=False)\n",
    "    \n",
    "#     for i in range(len(base_disc.index)):\n",
    "#         if (base_disc['base_discount_1'][i] > 0):\n",
    "#             print(\"\\n Discount cannot be more than 0 for base cargo discount 1 for date:\" + str(base_disc['Time'][i]))\n",
    "#         if (base_disc['base_discount_2'][i] > 0):\n",
    "#             print(\"\\n Discount cannot be more than 0 for base cargo discount 2 for date: \" + str(base_disc['Time'][i]))\n",
    "            \n",
    "# #     write_excel(file,'Base_discounts',base_disc)\n",
    "# #     with pd.ExcelWriter(file) as writer:  \n",
    "# #         base_disc.to_excel(writer, sheet_name='Base_discounts')\n",
    "            "
   ]
  },
  {
   "cell_type": "code",
   "execution_count": 26,
   "id": "91288ec1",
   "metadata": {},
   "outputs": [],
   "source": [
    "# def function4(file):#top off discount\n",
    "#     top_disc =pd.read_excel(file,sheet_name='Top-off_discounts')\n",
    "# #     top_disc.drop_duplicates(subset=\"Time\", keep='first', inplace=False)\n",
    "    \n",
    "#     for i in range(len(top_disc.index)):\n",
    "#         if (top_disc['top_off_discount_1'][i] > 0):\n",
    "#             print(\"\\n Discount cannot be more than 0 for top off cargo discount 1 for date:\" + str(top_disc['Time'][i]))\n",
    "#         if (top_disc['top_off_discount_2'][i] > 0):\n",
    "#             print(\"\\n Discount cannot be more than 0 for top off cargo discount 2 for date: \" + str(top_disc['Time'][i]))\n",
    "            \n",
    "# #     write_excel(file,'Top-off_discounts',top_disc)\n",
    "# #     with pd.ExcelWriter(file) as writer:  \n",
    "# #         top_disc.to_excel(writer, sheet_name='Top-off_discounts')        "
   ]
  },
  {
   "cell_type": "code",
   "execution_count": 27,
   "id": "60cda9b1",
   "metadata": {},
   "outputs": [],
   "source": [
    "# def function5(file,column_headers): #base cargo specs\n",
    "#     base_spec =pd.read_excel(file,sheet_name='Base_cargo_specs')\n",
    "    \n",
    "#     for i in range(1,len(base_spec.index)-1):\n",
    "#         if(base_spec['Unnamed: 4'][i]) in column_headers:\n",
    "#             pass\n",
    "#         else:\n",
    "#             print(\"Sheet:Base_cargo_specs \\nPrices for country and fuel type:\" + base_spec.at[i+1,'Unnamed: 4']+ \" does not exist.\\n\"+ \"Please check the list and re-enter correct value.\\n\")\n",
    "        \n",
    "#         if(base_spec['Unnamed: 5'][i]) in column_headers:\n",
    "#             pass\n",
    "#         else:\n",
    "#             print(\"Sheet:Base_cargo_specs \\nPrices for country and fuel type:\" + base_spec.at[i+1,'Unnamed: 5']+ \" does not exist.\\n\"+ \"Please check the list and re-enter correct value.\\n\")\n",
    "            \n",
    "#         if(base_spec['Unnamed: 6'][i]) in column_headers:\n",
    "#             pass\n",
    "#         else:\n",
    "#             print(\"Sheet:Base_cargo_specs \\nPrices for country and fuel type:\" + base_spec.at[i+1,'Unnamed: 6']+ \" does not exist. \\n\"+ \"Please check the list and re-enter correct value.\\n\")\n",
    "#         if(base_spec['Unnamed: 7'][i]) in column_headers:\n",
    "#             pass\n",
    "#         else:\n",
    "#             print(\"Sheet:Base_cargo_specs \\nPrices for country and fuel type:\" + base_spec.at[i+1,'Unnamed: 7']+ \" does not exist. \\n\"+ \"Please check the list and re-enter correct value.\\n\")\n",
    "\n",
    "            "
   ]
  },
  {
   "cell_type": "code",
   "execution_count": 28,
   "id": "8c018da4",
   "metadata": {},
   "outputs": [],
   "source": [
    "# def function6(file,column_headers):#top of cargo specs\n",
    "#     top_spec =pd.read_excel(file,sheet_name='Top-off_cargo_specs')\n",
    "    \n",
    "#     for i in range(1,len(top_spec.index)):\n",
    "#         if(top_spec['Unnamed: 4'][i]) in column_headers:\n",
    "#             pass\n",
    "#         else:\n",
    "#             print(\"Sheet:Top-off_cargo_specs \\nPrices for country and fuel type:\" + top_spec.at[i,'Unnamed: 4']+ \" does not exist.\\n\"+ \"Please check the list and re-enter correct value.\\n\")\n",
    "#         if(top_spec['Unnamed: 5'][i]) in column_headers:\n",
    "#             pass\n",
    "#         else:\n",
    "#             print(\"Sheet:Top-off_cargo_specs \\nPrices for country and fuel type:\" + top_spec.at[i,'Unnamed: 5']+ \" does not exist.\\n\"+ \"Please check the list and re-enter correct value.\\n\")\n",
    "            \n",
    "#         if(top_spec['Unnamed: 6'][i]) in column_headers:\n",
    "#             pass\n",
    "#         else:\n",
    "#             print(\"Sheet:Top-off_cargo_specs \\nPrices for country and fuel type:\" + top_spec.at[i,'Unnamed: 6']+ \" does not exist. \\n\"+ \"Please check the list and re-enter correct value.\\n\")\n",
    "            \n",
    "#         if(top_spec['Unnamed: 7'][i]) in column_headers:\n",
    "#             pass\n",
    "#         else:\n",
    "#             print(\"Sheet:Top-off_cargo_specs \\nPrices for country and fuel type:\" + top_spec.at[i,'Unnamed: 7']+ \" does not exist. \\n\"+ \"Please check the list and re-enter correct value.\\n\")\n",
    "\n",
    "                "
   ]
  },
  {
   "cell_type": "code",
   "execution_count": 29,
   "id": "a89d23cf",
   "metadata": {},
   "outputs": [],
   "source": [
    "# def function7(file,column_headers):#parcel calc specs\n",
    "    \n",
    "#     parc_spec =pd.read_excel(file,sheet_name='Parcel_calc_specs')\n",
    "    \n",
    "#     for i in range(1,len(parc_spec.index)):\n",
    "#         if(parc_spec['Unnamed: 6'][i]) in column_headers:\n",
    "#             pass\n",
    "#         else:\n",
    "#             print(\"Sheet:Parcel_calc_specs \\nPrices for country and fuel type for :\" + parc_spec['Unnamed: 6'][i]+ \" does not exist.\\n\"+ \"Please check the list and re-enter correct value.\\n\")\n",
    "#         if(parc_spec['Unnamed: 7'][i]) in column_headers:\n",
    "#             pass\n",
    "#         else:\n",
    "#             print(\"Sheet:Parcel_calc_specs \\n Prices for country and fuel type:\" + parc_spec['Unnamed: 7'][i] + \" does not exist.\\n\"+ \"Please check the list and re-enter correct value.\\n\")\n",
    "            \n",
    "#         if(parc_spec['Unnamed: 8'][i]) in column_headers:\n",
    "#             pass\n",
    "#         else:\n",
    "#             print(\"Sheet:Parcel_calc_specs \\n Prices for country and fuel type:\" + parc_spec['Unnamed: 8'][i] + \" does not exist. \\n\"+ \"Please check the list and re-enter correct value.\\n\")\n",
    "#         if(parc_spec['Unnamed: 9'][i]) in column_headers:\n",
    "#             pass\n",
    "#         else:\n",
    "#             print(\"Sheet:Parcel_calc_specs \\n Prices for country and fuel type:\" + parc_spec['Unnamed: 9'][i] + \" does not exist. \\n\"+ \"Please check the list and re-enter correct value.\\n\")\n",
    "\n",
    "                "
   ]
  },
  {
   "cell_type": "code",
   "execution_count": 30,
   "id": "743f0a41",
   "metadata": {},
   "outputs": [],
   "source": [
    "# def function8(file):#fw prices\n",
    "#     fc_cur=pd.read_excel(file,sheet_name='fwprices')\n",
    "#     column_headers = list(fc_cur.columns.values)\n",
    "#     column_headers.remove(column_headers[0])\n",
    "#     column_headers\n",
    "#     return column_headers"
   ]
  },
  {
   "cell_type": "code",
   "execution_count": 31,
   "id": "48e44c2a",
   "metadata": {},
   "outputs": [],
   "source": [
    "# def function10(file1):\n",
    "\n",
    "#     column_headers=function8(file1) #calling this function first since a later df needs to access contents of this df\n",
    "#     function1(file1)\n",
    "# #     function2(file1)\n",
    "#     function3(file1)\n",
    "#     function4(file1)\n",
    "#     function5(file1,column_headers)\n",
    "#     function6(file1,column_headers)\n",
    "#     function7(file1,column_headers)\n",
    "    \n",
    "    "
   ]
  },
  {
   "cell_type": "code",
   "execution_count": null,
   "id": "9275f24d",
   "metadata": {},
   "outputs": [],
   "source": []
  },
  {
   "cell_type": "code",
   "execution_count": null,
   "id": "d53fb024",
   "metadata": {},
   "outputs": [],
   "source": [
    "#     function9(file1)\n",
    "#     fc_cur=function18(file1)\n",
    "#     time_buc=function11(file1)\n",
    "#     tc_cur=function12(file1)\n",
    "#     base_disc=function13(file1)\n",
    "#     top_disc=function14(file1)\n",
    "#     base_spec=function15(file1)\n",
    "#     top_spec=function16(file1)\n",
    "#     parc_spec=function17(file1)\n",
    "    "
   ]
  },
  {
   "cell_type": "code",
   "execution_count": 1,
   "id": "85281f33",
   "metadata": {},
   "outputs": [],
   "source": [
    "# file='OT_trader_input_format5.xlsx'"
   ]
  },
  {
   "cell_type": "code",
   "execution_count": 2,
   "id": "7ff1b98b",
   "metadata": {},
   "outputs": [],
   "source": [
    "# time_buc =pd.read_excel(file,sheet_name='Time Buckets')\n",
    "# tc_cur =pd.read_excel(file,sheet_name='TC Curve')\n",
    "\n",
    "# base_disc =pd.read_excel(file,sheet_name='Base_discounts')\n",
    "# top_disc =pd.read_excel(file,sheet_name='Top-off_discounts')\n",
    "# base_spec =pd.read_excel(file,sheet_name='Base_cargo_specs')\n",
    "# top_spec =pd.read_excel(file,sheet_name='Top-off_cargo_specs')\n",
    "# parc_spec =pd.read_excel(file,sheet_name='Parcel_calc_specs')\n",
    "# fc_cur =pd.read_excel(file,sheet_name='fwprices')"
   ]
  },
  {
   "cell_type": "code",
   "execution_count": 22,
   "id": "234df3d3",
   "metadata": {},
   "outputs": [],
   "source": [
    "# def write_excel(filename,sheetname,dataframe):\n",
    "#     with pd.ExcelWriter(filename, engine='openpyxl', mode='a',if_sheet_exists='replace' ) as writer: \n",
    "#         workBook = writer.book\n",
    "#         try:\n",
    "#             workBook.remove(workBook[sheetname])\n",
    "#         except:\n",
    "#             print(\"Worksheet does not exist\")\n",
    "#         finally:\n",
    "#             dataframe.to_excel(writer, sheet_name=sheetname,index=False)\n",
    "#             writer.save()"
   ]
  },
  {
   "cell_type": "code",
   "execution_count": 3,
   "id": "108f53c4",
   "metadata": {},
   "outputs": [],
   "source": [
    "# fc_cur"
   ]
  },
  {
   "cell_type": "code",
   "execution_count": 4,
   "id": "74f9fa0c",
   "metadata": {
    "scrolled": true
   },
   "outputs": [],
   "source": [
    "# column_headers = list(fc_cur.columns.values)"
   ]
  },
  {
   "cell_type": "code",
   "execution_count": 5,
   "id": "21bfab85",
   "metadata": {},
   "outputs": [],
   "source": [
    "# column_headers\n",
    "# column_headers.remove(column_headers[0])\n",
    "# column_headers"
   ]
  },
  {
   "cell_type": "code",
   "execution_count": 6,
   "id": "5e4cb7c8",
   "metadata": {},
   "outputs": [],
   "source": [
    "# parc_spec"
   ]
  },
  {
   "cell_type": "code",
   "execution_count": 7,
   "id": "3c780897",
   "metadata": {
    "scrolled": true
   },
   "outputs": [],
   "source": [
    "# top_spec"
   ]
  },
  {
   "cell_type": "code",
   "execution_count": 8,
   "id": "60cab226",
   "metadata": {},
   "outputs": [],
   "source": [
    "# time_buc"
   ]
  },
  {
   "cell_type": "code",
   "execution_count": 9,
   "id": "20c26ae2",
   "metadata": {},
   "outputs": [],
   "source": [
    "# base_spec"
   ]
  },
  {
   "cell_type": "code",
   "execution_count": 10,
   "id": "512cae22",
   "metadata": {
    "scrolled": true
   },
   "outputs": [],
   "source": [
    "# base_spec.at[1,'Unnamed: 4']"
   ]
  },
  {
   "cell_type": "code",
   "execution_count": 11,
   "id": "334525a6",
   "metadata": {},
   "outputs": [],
   "source": [
    "# len(base_disc.index)"
   ]
  },
  {
   "cell_type": "code",
   "execution_count": 12,
   "id": "d15a4990",
   "metadata": {},
   "outputs": [],
   "source": [
    "# top_disc"
   ]
  },
  {
   "cell_type": "code",
   "execution_count": 13,
   "id": "551310b0",
   "metadata": {},
   "outputs": [],
   "source": [
    "# fc_cur"
   ]
  },
  {
   "cell_type": "code",
   "execution_count": 14,
   "id": "c236a175",
   "metadata": {},
   "outputs": [],
   "source": [
    "# base_disc=pd.read_excel(file,sheet_name='Base_discounts')"
   ]
  },
  {
   "cell_type": "code",
   "execution_count": 15,
   "id": "23ce08fa",
   "metadata": {},
   "outputs": [],
   "source": [
    "# base_disc"
   ]
  },
  {
   "cell_type": "code",
   "execution_count": 16,
   "id": "d7c8a1f8",
   "metadata": {},
   "outputs": [],
   "source": [
    "# base_disc.at[0,'base_discount_1']"
   ]
  },
  {
   "cell_type": "code",
   "execution_count": 17,
   "id": "81a7d430",
   "metadata": {},
   "outputs": [],
   "source": [
    "\n",
    "#     base_disc.drop_duplicates(subset=\"Time\", keep='first', inplace=False)\n",
    "    \n",
    "#     base_discount_1,base_discount_2\n",
    "# for i in range(len(base_disc.index)):\n",
    "#     if (base_discount_1[i] > 0):\n",
    "#         print(\"Discount cannot be more than 0 for base cargo discount 1 for date:\" + Time[i])\n",
    "#     if (base_discount_2[i] > 0):\n",
    "#         print(\"Discount cannot be more than 0 for base cargo discount 2 for date: \" + Time[i])\n",
    "            "
   ]
  },
  {
   "cell_type": "code",
   "execution_count": 18,
   "id": "f95beed5",
   "metadata": {},
   "outputs": [],
   "source": [
    "# base_spec =pd.read_excel(file,sheet_name='Base_cargo_specs')"
   ]
  },
  {
   "cell_type": "code",
   "execution_count": 19,
   "id": "769f8138",
   "metadata": {},
   "outputs": [],
   "source": [
    "# base_spec['Unnamed: 4'][14]"
   ]
  },
  {
   "cell_type": "code",
   "execution_count": 20,
   "id": "a8731a7d",
   "metadata": {},
   "outputs": [],
   "source": [
    "# base_spec =pd.read_excel(file,sheet_name='Base_cargo_specs')\n",
    "    \n",
    "#     for i in range(len(base_spec.index)):\n",
    "#         if(base_spec['Unnamed: 4'][i+1]) in column_headers:\n",
    "#             pass\n",
    "#         else:\n",
    "#             print(\"Prices for country and fuel type:\" + base_spec.at[i+1,'Unnamed: 4']+ \" does not exist.\\n\"+ \"Please check the list and re-enter correct value.\")\n",
    "        \n",
    "#         if(base_spec['Unnamed: 5'][i+1]) in column_headers:\n",
    "#             pass\n",
    "#         else:\n",
    "#             print(\"Prices for country and fuel type:\" + base_spec.at[i+1,'Unnamed: 5']+ \" does not exist.\\n\"+ \"Please check the list and re-enter correct value.\")\n",
    "            \n",
    "#         if(base_spec['Unnamed: 6'][i+1]) in column_headers:\n",
    "#             pass\n",
    "#         else:\n",
    "#             print(\"Prices for country and fuel type:\" + base_spec.at[i+1,'Unnamed: 6']+ \" does not exist. \\n\"+ \"Please check the list and re-enter correct value.\")\n",
    "#         if(base_spec['Unnamed: 7'][i+1]) in column_headers:\n",
    "#             pass\n",
    "#         else:\n",
    "#             print(\"Prices for country and fuel type:\" + base_spec.at[i+1,'Unnamed: 7']+ \" does not exist. \\n\"+ \"Please check the list and re-enter correct value.\")"
   ]
  },
  {
   "cell_type": "code",
   "execution_count": null,
   "id": "917d5f09",
   "metadata": {},
   "outputs": [],
   "source": []
  }
 ],
 "metadata": {
  "kernelspec": {
   "display_name": "Python 3 (ipykernel)",
   "language": "python",
   "name": "python3"
  },
  "language_info": {
   "codemirror_mode": {
    "name": "ipython",
    "version": 3
   },
   "file_extension": ".py",
   "mimetype": "text/x-python",
   "name": "python",
   "nbconvert_exporter": "python",
   "pygments_lexer": "ipython3",
   "version": "3.8.0"
  }
 },
 "nbformat": 4,
 "nbformat_minor": 5
}
