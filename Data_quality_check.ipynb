{
 "cells": [
  {
   "cell_type": "code",
   "execution_count": 24,
   "id": "8c594669",
   "metadata": {},
   "outputs": [],
   "source": [
    "import pandas as pd\n",
    "import numpy as np"
   ]
  },
  {
   "cell_type": "code",
   "execution_count": 25,
   "id": "3b9137cb",
   "metadata": {},
   "outputs": [],
   "source": [
    "file='OT_trader_input_format5.xlsx'"
   ]
  },
  {
   "cell_type": "code",
   "execution_count": 26,
   "id": "e5f3ab06",
   "metadata": {},
   "outputs": [],
   "source": [
    "# filenames=['Time Buckets','TC Curve','fwprices','Base_discounts','Top-off_discounts','Base_cargo_specs','Top-off_cargo_specs','Parcel_calc_specs']"
   ]
  },
  {
   "cell_type": "code",
   "execution_count": 27,
   "id": "1e4a9e83",
   "metadata": {
    "scrolled": true
   },
   "outputs": [],
   "source": [
    "# timee_buc"
   ]
  },
  {
   "cell_type": "code",
   "execution_count": 28,
   "id": "6b22acaa",
   "metadata": {},
   "outputs": [],
   "source": [
    "# tc_cur"
   ]
  },
  {
   "cell_type": "code",
   "execution_count": 29,
   "id": "e9f5508b",
   "metadata": {},
   "outputs": [],
   "source": [
    "# fc_cur"
   ]
  },
  {
   "cell_type": "code",
   "execution_count": 30,
   "id": "1ff26e03",
   "metadata": {},
   "outputs": [],
   "source": [
    "# base_disc"
   ]
  },
  {
   "cell_type": "code",
   "execution_count": 31,
   "id": "72572225",
   "metadata": {},
   "outputs": [],
   "source": [
    "# top_disc"
   ]
  },
  {
   "cell_type": "code",
   "execution_count": 32,
   "id": "5ecc16ba",
   "metadata": {},
   "outputs": [],
   "source": [
    "# base_spec"
   ]
  },
  {
   "cell_type": "code",
   "execution_count": 33,
   "id": "4e15df45",
   "metadata": {},
   "outputs": [],
   "source": [
    "# top_spec"
   ]
  },
  {
   "cell_type": "code",
   "execution_count": null,
   "id": "b09c307c",
   "metadata": {},
   "outputs": [],
   "source": [
    "# parc_spec"
   ]
  },
  {
   "cell_type": "code",
   "execution_count": 15,
   "id": "109039fb",
   "metadata": {},
   "outputs": [],
   "source": [
    "# filenamessavedas=[timee_buc,tc_cur,fc_cur,base_disc,top_disc,base_spec,top_spec,parc_spec]"
   ]
  },
  {
   "cell_type": "code",
   "execution_count": 16,
   "id": "39e6135f",
   "metadata": {},
   "outputs": [],
   "source": [
    "# for i in range(len(filenames)):\n",
    "#     filenamessavedas[i]=pd.read_excel(file,sheet_name=filenames[i])"
   ]
  },
  {
   "cell_type": "code",
   "execution_count": 34,
   "id": "fc9c058e",
   "metadata": {},
   "outputs": [],
   "source": [
    "time_buc =pd.read_excel(file,sheet_name='Time Buckets')\n",
    "tc_cur =pd.read_excel(file,sheet_name='TC Curve')\n",
    "fc_cur =pd.read_excel(file,sheet_name='fwprices')\n",
    "base_disc =pd.read_excel(file,sheet_name='Base_discounts')\n",
    "top_disc =pd.read_excel(file,sheet_name='Top-off_discounts')\n",
    "base_spec =pd.read_excel(file,sheet_name='Base_cargo_specs')\n",
    "top_spec =pd.read_excel(file,sheet_name='Top-off_cargo_specs')\n",
    "parc_spec =pd.read_excel(file,sheet_name='Parcel_calc_specs')"
   ]
  },
  {
   "cell_type": "code",
   "execution_count": 35,
   "id": "ce75f9c0",
   "metadata": {},
   "outputs": [
    {
     "data": {
      "text/html": [
       "<div>\n",
       "<style scoped>\n",
       "    .dataframe tbody tr th:only-of-type {\n",
       "        vertical-align: middle;\n",
       "    }\n",
       "\n",
       "    .dataframe tbody tr th {\n",
       "        vertical-align: top;\n",
       "    }\n",
       "\n",
       "    .dataframe thead th {\n",
       "        text-align: right;\n",
       "    }\n",
       "</style>\n",
       "<table border=\"1\" class=\"dataframe\">\n",
       "  <thead>\n",
       "    <tr style=\"text-align: right;\">\n",
       "      <th></th>\n",
       "      <th>time_bucket</th>\n",
       "      <th>relative_time_bucket_designation</th>\n",
       "      <th>absolute_time_bucket_start</th>\n",
       "    </tr>\n",
       "  </thead>\n",
       "  <tbody>\n",
       "    <tr>\n",
       "      <th>0</th>\n",
       "      <td>T1</td>\n",
       "      <td>R1</td>\n",
       "      <td>2022-12-01</td>\n",
       "    </tr>\n",
       "    <tr>\n",
       "      <th>1</th>\n",
       "      <td>T2</td>\n",
       "      <td>R2</td>\n",
       "      <td>2023-01-01</td>\n",
       "    </tr>\n",
       "    <tr>\n",
       "      <th>2</th>\n",
       "      <td>T3</td>\n",
       "      <td>R3</td>\n",
       "      <td>2023-02-01</td>\n",
       "    </tr>\n",
       "    <tr>\n",
       "      <th>3</th>\n",
       "      <td>T4</td>\n",
       "      <td>R4</td>\n",
       "      <td>2023-03-01</td>\n",
       "    </tr>\n",
       "    <tr>\n",
       "      <th>4</th>\n",
       "      <td>T5</td>\n",
       "      <td>R5</td>\n",
       "      <td>2023-04-01</td>\n",
       "    </tr>\n",
       "  </tbody>\n",
       "</table>\n",
       "</div>"
      ],
      "text/plain": [
       "  time_bucket relative_time_bucket_designation absolute_time_bucket_start\n",
       "0          T1                               R1                 2022-12-01\n",
       "1          T2                               R2                 2023-01-01\n",
       "2          T3                               R3                 2023-02-01\n",
       "3          T4                               R4                 2023-03-01\n",
       "4          T5                               R5                 2023-04-01"
      ]
     },
     "execution_count": 35,
     "metadata": {},
     "output_type": "execute_result"
    }
   ],
   "source": [
    "time_buc"
   ]
  },
  {
   "cell_type": "code",
   "execution_count": 36,
   "id": "fc74f913",
   "metadata": {},
   "outputs": [
    {
     "data": {
      "text/html": [
       "<div>\n",
       "<style scoped>\n",
       "    .dataframe tbody tr th:only-of-type {\n",
       "        vertical-align: middle;\n",
       "    }\n",
       "\n",
       "    .dataframe tbody tr th {\n",
       "        vertical-align: top;\n",
       "    }\n",
       "\n",
       "    .dataframe thead th {\n",
       "        text-align: right;\n",
       "    }\n",
       "</style>\n",
       "<table border=\"1\" class=\"dataframe\">\n",
       "  <thead>\n",
       "    <tr style=\"text-align: right;\">\n",
       "      <th></th>\n",
       "      <th>Time</th>\n",
       "      <th>base_discount_1</th>\n",
       "      <th>base_discount_2</th>\n",
       "    </tr>\n",
       "  </thead>\n",
       "  <tbody>\n",
       "    <tr>\n",
       "      <th>0</th>\n",
       "      <td>2022-12-01</td>\n",
       "      <td>-1</td>\n",
       "      <td>-1</td>\n",
       "    </tr>\n",
       "    <tr>\n",
       "      <th>1</th>\n",
       "      <td>2023-01-01</td>\n",
       "      <td>-1</td>\n",
       "      <td>-1</td>\n",
       "    </tr>\n",
       "    <tr>\n",
       "      <th>2</th>\n",
       "      <td>2023-02-01</td>\n",
       "      <td>-1</td>\n",
       "      <td>-1</td>\n",
       "    </tr>\n",
       "    <tr>\n",
       "      <th>3</th>\n",
       "      <td>2023-03-01</td>\n",
       "      <td>-1</td>\n",
       "      <td>-1</td>\n",
       "    </tr>\n",
       "    <tr>\n",
       "      <th>4</th>\n",
       "      <td>2023-04-01</td>\n",
       "      <td>-1</td>\n",
       "      <td>-1</td>\n",
       "    </tr>\n",
       "  </tbody>\n",
       "</table>\n",
       "</div>"
      ],
      "text/plain": [
       "        Time  base_discount_1  base_discount_2\n",
       "0 2022-12-01               -1               -1\n",
       "1 2023-01-01               -1               -1\n",
       "2 2023-02-01               -1               -1\n",
       "3 2023-03-01               -1               -1\n",
       "4 2023-04-01               -1               -1"
      ]
     },
     "execution_count": 36,
     "metadata": {},
     "output_type": "execute_result"
    }
   ],
   "source": [
    "base_disc"
   ]
  },
  {
   "cell_type": "code",
   "execution_count": 11,
   "id": "e148e25e",
   "metadata": {},
   "outputs": [],
   "source": [
    "def data_process(time,tc_cur,fc_cur,base_disc,top_disc):\n",
    "    '''Definition: generates 2 imos data for calculation and matching, and retrieves time and fuel curves for time buckets\n",
    "    Parameters:raw imos data, time buckets, tc curve, fuel curve\n",
    "    Returns:imos_calc,imos_match, and tc curve and fuel curve for specified time bucket '''\n",
    "    \n",
    "    if len(time['absolute_time_bucket_start'].tolist())!=len(set(time['absolute_time_bucket_start'].tolist())):\n",
    "        print(\"Dropping duplicates in time buckets\")                                             \n",
    "        time=time.drop_duplicates(subset=['absolute_time_bucket_start'])\n",
    "    \n",
    "    if len(tc_cur['Time'].tolist())!=len(set(tc_cur['Time'].tolist())):                                                     \n",
    "        print(\"Dropping duplicates in time buckets of tc curve\") \n",
    "        tc_cur=tc_cur.drop_duplicates(subset=['Time'])\n",
    "                                                             \n",
    "    if len(fc_cur['Month'].tolist())!=len(set(fc_cur['Month'].tolist())):     \n",
    "        print(\"Dropping duplicates in time buckets of fuel curve\")\n",
    "        fc_cur=fc_cur.drop_duplicates(subset=['Month']) \n",
    "                                                         \n",
    "                                                             \n",
    "    if len(base_disc['Time'].tolist())!=len(set(base_disc['Time'].tolist())):\n",
    "        print(\"Dropping duplicates in time buckets of base discount\")                                                              \n",
    "        base_disc=base_disc.drop_duplicates(subset=['Time'])\n",
    "                                                             \n",
    "    if  len(top_disc['Time'].tolist())!=len(set(top_disc['Time'].tolist())):\n",
    "        print(\"Dropping duplicates in time buckets of top-off discount\")  \n",
    "        top_disc=top_disc.drop_duplicates(subset=['Time'])\n",
    "    \n",
    "    if len(tc_cur.transpose().reset_index()['index'].tolist())!=len(set(tc_cur.transpose().reset_index()['index'].tolist())):                                                     \n",
    "        print(\"Dropping duplicates in curve selection of tc curve\")                                                         \n",
    "                                                             \n",
    "                                                             \n",
    "    #mapping time bucket and tc curve\n",
    "    tc_time=pd.merge(time[['absolute_time_bucket_start']],tc_cur,left_on='absolute_time_bucket_start',right_on='Time',how='left')\n",
    "    tc_time.drop(columns=['absolute_time_bucket_start'],inplace=True)\n",
    "    #dataframe with fuel curves for specified time buckets\n",
    "    fc_time=pd.merge(time[['absolute_time_bucket_start']],fc_cur,left_on='absolute_time_bucket_start',right_on='Month',how='left')\n",
    "    price_dates=time['absolute_time_bucket_start'].dt.strftime('%d-%m-%Y').values.tolist()\n",
    "    base_disc=pd.merge(time[['absolute_time_bucket_start']],base_disc,left_on='absolute_time_bucket_start',right_on='Time',how='left')\n",
    "    base_disc.drop(columns=['absolute_time_bucket_start'],inplace=True)\n",
    "    top_disc=pd.merge(time[['absolute_time_bucket_start']],top_disc,left_on='absolute_time_bucket_start',right_on='Time',how='left')\n",
    "    top_disc.drop(columns=['absolute_time_bucket_start'],inplace=True)\n",
    "    return(tc_time,fc_time,price_dates,base_disc,top_disc)"
   ]
  },
  {
   "cell_type": "code",
   "execution_count": 12,
   "id": "5b807236",
   "metadata": {},
   "outputs": [],
   "source": [
    "def specs_preproc(df,idtype):\n",
    "    ''' definition:pre process specifications sheet to remove the merged multilevel headers\n",
    "        parameters:specification df, type of id='Base cargo', 'Top-off cargo' or 'Parcel calc'\n",
    "        return:Specification df single level header '''\n",
    "    new_header=df.iloc[0]\n",
    "    df=df.iloc[1:]\n",
    "    df.columns=new_header\n",
    "    \n",
    "    var='%s IMOS estimate'%idtype\n",
    "    df=df.drop_duplicates(subset=[var])\n",
    "    df.reset_index(drop=True,inplace=True)\n",
    "    return (df)"
   ]
  },
  {
   "cell_type": "code",
   "execution_count": 13,
   "id": "cf29392f",
   "metadata": {},
   "outputs": [
    {
     "name": "stdout",
     "output_type": "stream",
     "text": [
      "Dropping duplicates in time buckets\n",
      "Dropping duplicates in time buckets of tc curve\n",
      "Dropping duplicates in time buckets of fuel curve\n",
      "Dropping duplicates in time buckets of base discount\n",
      "Dropping duplicates in time buckets of top-off discount\n"
     ]
    }
   ],
   "source": [
    "tc_time,fc_time,price_dates,base_disc,top_disc=data_process(time_buc,tc_cur,fc_cur,base_disc,top_disc)"
   ]
  },
  {
   "cell_type": "code",
   "execution_count": null,
   "id": "fc05b1ff",
   "metadata": {},
   "outputs": [],
   "source": [
    "base_spec=specs_preproc(base_spec,'Base cargo')\n",
    "top_spec=specs_preproc(top_spec,'Top-off cargo')\n",
    "parc_spec=specs_preproc(parc_spec,'Parcel calc')"
   ]
  },
  {
   "cell_type": "code",
   "execution_count": null,
   "id": "7fd045c3",
   "metadata": {},
   "outputs": [],
   "source": []
  }
 ],
 "metadata": {
  "kernelspec": {
   "display_name": "Python 3 (ipykernel)",
   "language": "python",
   "name": "python3"
  },
  "language_info": {
   "codemirror_mode": {
    "name": "ipython",
    "version": 3
   },
   "file_extension": ".py",
   "mimetype": "text/x-python",
   "name": "python",
   "nbconvert_exporter": "python",
   "pygments_lexer": "ipython3",
   "version": "3.8.0"
  }
 },
 "nbformat": 4,
 "nbformat_minor": 5
}
